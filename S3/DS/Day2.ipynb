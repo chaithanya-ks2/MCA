{
 "cells": [
  {
   "cell_type": "code",
   "execution_count": 2,
   "id": "100880d8-7b2b-49f2-b893-a1bfbe740678",
   "metadata": {},
   "outputs": [],
   "source": [
    "import numpy as np"
   ]
  },
  {
   "cell_type": "code",
   "execution_count": 3,
   "id": "3dde2e19-7405-4cf6-a9ab-f678bfa303cf",
   "metadata": {},
   "outputs": [
    {
     "name": "stdout",
     "output_type": "stream",
     "text": [
      "Original Matrix: \n",
      "[[1 2 3]\n",
      " [4 5 6]\n",
      " [7 8 9]]\n"
     ]
    }
   ],
   "source": [
    "A = np.array([[1, 2, 3], [4, 5, 6], [7, 8, 9]])\n",
    "print(\"Original Matrix: \")\n",
    "print(A)"
   ]
  },
  {
   "cell_type": "code",
   "execution_count": 4,
   "id": "97fbdf82-4637-433e-a46c-4cb152bec2ec",
   "metadata": {},
   "outputs": [
    {
     "name": "stdout",
     "output_type": "stream",
     "text": [
      "Transpose of Matrix A: \n",
      "[[1 4 7]\n",
      " [2 5 8]\n",
      " [3 6 9]]\n"
     ]
    }
   ],
   "source": [
    "A_trans = np.transpose(A)\n",
    "print(\"Transpose of Matrix A: \")\n",
    "print(A_trans)"
   ]
  },
  {
   "cell_type": "code",
   "execution_count": 6,
   "id": "2fd1a862-f726-4e7b-8ae2-76c6384ef97a",
   "metadata": {},
   "outputs": [
    {
     "name": "stdout",
     "output_type": "stream",
     "text": [
      "Trace of matrix A: 15\n"
     ]
    }
   ],
   "source": [
    "print(\"Trace of matrix A:\", np.trace(A))"
   ]
  },
  {
   "cell_type": "code",
   "execution_count": 14,
   "id": "cb5d52b8-d39a-4cb0-bbb8-61453031aa49",
   "metadata": {},
   "outputs": [
    {
     "data": {
      "text/plain": [
       "15"
      ]
     },
     "execution_count": 14,
     "metadata": {},
     "output_type": "execute_result"
    }
   ],
   "source": [
    "np.trace(A_trans)"
   ]
  },
  {
   "cell_type": "code",
   "execution_count": 8,
   "id": "1f255bf1-cc15-4c25-81a1-36d4a6078f44",
   "metadata": {},
   "outputs": [
    {
     "data": {
      "text/plain": [
       "array([[12, 13, 14],\n",
       "       [15, 16, 17],\n",
       "       [18, 19, 20]])"
      ]
     },
     "execution_count": 8,
     "metadata": {},
     "output_type": "execute_result"
    }
   ],
   "source": [
    "B = np.array([[12, 13, 14], [15, 16, 17], [18, 19, 20]])\n",
    "B"
   ]
  },
  {
   "cell_type": "code",
   "execution_count": 9,
   "id": "4fadb4b9-68d3-41b9-b332-1c22e75bdd69",
   "metadata": {},
   "outputs": [
    {
     "name": "stdout",
     "output_type": "stream",
     "text": [
      "Dot product of A and B: \n",
      "[[ 96 102 108]\n",
      " [231 246 261]\n",
      " [366 390 414]]\n"
     ]
    }
   ],
   "source": [
    "print(\"Dot product of A and B: \")\n",
    "print(np.dot(A, B))"
   ]
  },
  {
   "cell_type": "code",
   "execution_count": 10,
   "id": "b734d19d-177c-4cc0-a829-23456f07459b",
   "metadata": {},
   "outputs": [],
   "source": [
    "C = np.array([[1, 2], [3, 4]])"
   ]
  },
  {
   "cell_type": "code",
   "execution_count": 12,
   "id": "d4cefbc0-dfb6-42a3-b279-432f3749f3d1",
   "metadata": {},
   "outputs": [
    {
     "name": "stdout",
     "output_type": "stream",
     "text": [
      "Inverse of matrix C: \n",
      "[[-2.   1. ]\n",
      " [ 1.5 -0.5]]\n"
     ]
    }
   ],
   "source": [
    "print(\"Inverse of matrix C: \")\n",
    "print(np.linalg.inv(C))"
   ]
  },
  {
   "cell_type": "code",
   "execution_count": 14,
   "id": "b7a1f54d-75a2-4f11-adc3-2dbd77c61774",
   "metadata": {},
   "outputs": [
    {
     "name": "stdout",
     "output_type": "stream",
     "text": [
      "Rank of matrix C: 2\n"
     ]
    }
   ],
   "source": [
    "print(\"Rank of matrix C:\", np.linalg.matrix_rank(C))"
   ]
  },
  {
   "cell_type": "code",
   "execution_count": 15,
   "id": "f1c80683-d015-4f58-a130-32ebe3a5dd40",
   "metadata": {},
   "outputs": [
    {
     "name": "stdout",
     "output_type": "stream",
     "text": [
      "Determinant of Matrix C: -2.0000000000000004\n"
     ]
    }
   ],
   "source": [
    "print(\"Determinant of Matrix C:\", np.linalg.det(C))"
   ]
  },
  {
   "cell_type": "code",
   "execution_count": 18,
   "id": "154d47bd-ce69-4ba2-867d-7b3f5f1c6147",
   "metadata": {},
   "outputs": [
    {
     "data": {
      "text/plain": [
       "EigResult(eigenvalues=array([-0.37228132,  5.37228132]), eigenvectors=array([[-0.82456484, -0.41597356],\n",
       "       [ 0.56576746, -0.90937671]]))"
      ]
     },
     "execution_count": 18,
     "metadata": {},
     "output_type": "execute_result"
    }
   ],
   "source": [
    "np.linalg.eig(C)"
   ]
  },
  {
   "cell_type": "code",
   "execution_count": 17,
   "id": "bbf8d17d-b6ea-4426-b095-07ebf398b05e",
   "metadata": {},
   "outputs": [
    {
     "name": "stdout",
     "output_type": "stream",
     "text": [
      "Eigen values:  [-0.37228132  5.37228132]\n",
      "Eigen vectors:  [[-0.82456484 -0.41597356]\n",
      " [ 0.56576746 -0.90937671]]\n"
     ]
    }
   ],
   "source": [
    "eigen_val, eigen_vect = np.linalg.eig(C)\n",
    "print(\"Eigen values: \", eigen_val)\n",
    "print(\"Eigen vectors: \", eigen_vect)"
   ]
  },
  {
   "cell_type": "code",
   "execution_count": 32,
   "id": "595f7b2f-1b29-4ad6-9c78-d133d1232a0d",
   "metadata": {},
   "outputs": [],
   "source": [
    "import matplotlib.pyplot as plt"
   ]
  },
  {
   "cell_type": "code",
   "execution_count": 64,
   "id": "185ee3e3-a9d0-4283-a1e7-edcdd45ac955",
   "metadata": {},
   "outputs": [
    {
     "data": {
      "image/png": "[encoded data removed]",
      "text/plain": [
       "<Figure size 640x480 with 1 Axes>"
      ]
     },
     "metadata": {},
     "output_type": "display_data"
    }
   ],
   "source": [
    "x = [1, 2, 3]\n",
    "y = [4, 5, 6]\n",
    "\n",
    "plt.plot(x, y, marker='o', color='green', ms=8, mec='red', mfc='white')\n",
    "#marker size, marker edge color, marker face color\n",
    "plt.show()"
   ]
  },
  {
   "cell_type": "code",
   "execution_count": 68,
   "id": "216bbc5e-1f6d-46b9-b9ff-7c8fbce8f888",
   "metadata": {},
   "outputs": [
    {
     "data": {
      "image/png": "[encoded data removed]",
      "text/plain": [
       "<Figure size 640x480 with 1 Axes>"
      ]
     },
     "metadata": {},
     "output_type": "display_data"
    }
   ],
   "source": [
    "x = [1.3, 2, 3, 4]\n",
    "y = [4, 4.3, 6, 6.5]\n",
    "\n",
    "plt.plot(x, y, 'o--r')\n",
    "#marker line color\n",
    "plt.show()"
   ]
  },
  {
   "cell_type": "code",
   "execution_count": null,
   "id": "15768c9c-3e0a-4dd6-b30c-eccc4f6e582f",
   "metadata": {},
   "outputs": [],
   "source": []
  }
 ],
 "metadata": {
  "kernelspec": {
   "display_name": "Python 3 (ipykernel)",
   "language": "python",
   "name": "python3"
  },
  "language_info": {
   "codemirror_mode": {
    "name": "ipython",
    "version": 3
   },
   "file_extension": ".py",
   "mimetype": "text/x-python",
   "name": "python",
   "nbconvert_exporter": "python",
   "pygments_lexer": "ipython3",
   "version": "3.12.0"
  }
 },
 "nbformat": 4,
 "nbformat_minor": 5
}
