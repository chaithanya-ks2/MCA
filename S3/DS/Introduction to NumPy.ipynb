{
 "cells": [
  {
   "cell_type": "code",
   "execution_count": 1,
   "id": "8ef6cd64-c381-45ed-8aaa-29533c055e63",
   "metadata": {},
   "outputs": [],
   "source": [
    "import numpy as np"
   ]
  },
  {
   "cell_type": "markdown",
   "id": "5d10945f-d5e4-4d2b-b014-02979a8ef2ae",
   "metadata": {},
   "source": [
    "#### 1) write a numpy program to convert ferenheit degree to centigrade degree. Frenheit values are stored in numpy array"
   ]
  },
  {
   "cell_type": "code",
   "execution_count": 7,
   "id": "a585deaf-f49b-4b64-96d0-ef5892ee3fac",
   "metadata": {},
   "outputs": [
    {
     "name": "stdout",
     "output_type": "stream",
     "text": [
      "[0.0, 20.0, 25.0, 40.0, 100.0]\n"
     ]
    }
   ],
   "source": [
    "f_values = np.array([32, 68, 77, 104, 212])\n",
    "\n",
    "def f_to_c(f):\n",
    "    centi = []\n",
    "    for i in f:\n",
    "        centi.append((i-32)*5/9)\n",
    "    np.array(centi)\n",
    "    return centi\n",
    "\n",
    "c_values = f_to_c(f_values)\n",
    "print(c_values)"
   ]
  },
  {
   "cell_type": "code",
   "execution_count": 8,
   "id": "68788684-499e-4cbf-a635-1471c22c2968",
   "metadata": {},
   "outputs": [
    {
     "name": "stdout",
     "output_type": "stream",
     "text": [
      "[ 32  68  77 104 212]\n",
      "[  0.  20.  25.  40. 100.]\n"
     ]
    }
   ],
   "source": [
    "f_values = np.array([32, 68, 77, 104, 212])\n",
    "c_values = (f_values - 32) * 5/9\n",
    "\n",
    "print(f_values)\n",
    "print(c_values)"
   ]
  },
  {
   "cell_type": "markdown",
   "id": "95d675b8-b918-40cd-9e02-6f927ce06b37",
   "metadata": {},
   "source": [
    "#### 2) write a NumPy program to create a random array with 1000 elements and compute the average, variance, standard deviation of the array elements"
   ]
  },
  {
   "cell_type": "code",
   "execution_count": 16,
   "id": "9bd7260a-4fcb-4525-983e-c3f98eafdffd",
   "metadata": {},
   "outputs": [
    {
     "name": "stdout",
     "output_type": "stream",
     "text": [
      "Average: 502.733\n",
      "Variance: 86115.837711\n",
      "Standard Deviation: 293.4550011688334\n"
     ]
    }
   ],
   "source": [
    "arr1 = np.random.randint(0, 1000, 1000)\n",
    "\n",
    "print(f\"Average: {np.average(arr1)}\")\n",
    "print(f\"Variance: {np.var(arr1)}\")\n",
    "print(f\"Standard Deviation: {np.std(arr1)}\")"
   ]
  },
  {
   "cell_type": "markdown",
   "id": "1ef64f1e-2e83-447b-9c34-6866b23a9c79",
   "metadata": {},
   "source": [
    "#### 3) Write a numpy program to convert angles from degrees to radians for all elements in a given array"
   ]
  },
  {
   "cell_type": "code",
   "execution_count": 23,
   "id": "31a304b7-6701-437e-888b-ab5c281fb5d5",
   "metadata": {},
   "outputs": [
    {
     "name": "stdout",
     "output_type": "stream",
     "text": [
      "Degrees:  [  0  30  45  60  90 120 180 270 360]\n",
      "Radians:  [0.         0.52359878 0.78539816 1.04719755 1.57079633 2.0943951\n",
      " 3.14159265 4.71238898 6.28318531]\n"
     ]
    }
   ],
   "source": [
    "degrees = np.array([0, 30, 45, 60, 90, 120, 180, 270, 360])\n",
    "radians = degrees * np.pi/180\n",
    "\n",
    "print(\"Degrees: \", degrees)\n",
    "print(\"Radians: \", radians)"
   ]
  },
  {
   "cell_type": "markdown",
   "id": "88e8e4ce-abbd-4d04-965a-2e4a0b2888d9",
   "metadata": {},
   "source": [
    "#### 4) Write a NumPy program to calculate the difference between neighbouring elements, element-wise of a given array"
   ]
  },
  {
   "cell_type": "code",
   "execution_count": 25,
   "id": "f7bf5cac-82ae-4056-9b6c-e6fba6362594",
   "metadata": {},
   "outputs": [
    {
     "name": "stdout",
     "output_type": "stream",
     "text": [
      "[ 8 58 32 91  9 26 23 25 31 13]\n",
      "[ 50 -26  59 -82  17  -3   2   6 -18]\n"
     ]
    }
   ],
   "source": [
    "arr2 = np.random.randint(0, 100, 10)\n",
    "\n",
    "print(arr2)\n",
    "print(np.diff(arr2))"
   ]
  },
  {
   "cell_type": "markdown",
   "id": "1733e311-abbe-4b66-bb80-fd23e2a72bbc",
   "metadata": {},
   "source": [
    "#### 5) Write a numpy program to sort a given complex array using the real part first, then imaginary part."
   ]
  },
  {
   "cell_type": "code",
   "execution_count": 70,
   "id": "a81ef10f-50ba-4ea5-a6b4-dfcef4c3cad9",
   "metadata": {},
   "outputs": [
    {
     "name": "stdout",
     "output_type": "stream",
     "text": [
      "Original:  [16.+51.j 55.+93.j 79.+81.j 93.+47.j 15.+46.j  7.+60.j 96.+94.j 75.+31.j\n",
      " 27.+35.j 66.+24.j]\n",
      "Sorted:  [ 7.+60.j 15.+46.j 16.+51.j 27.+35.j 55.+93.j 66.+24.j 75.+31.j 79.+81.j\n",
      " 93.+47.j 96.+94.j]\n"
     ]
    }
   ],
   "source": [
    "real_part = np.random.randint(0, 100, 10)\n",
    "img_part = np.random.randint(0, 100, 10)\n",
    "\n",
    "complex = real_part + 1j * img_part\n",
    "\n",
    "print(\"Original: \", complex)\n",
    "print(\"Sorted: \", np.sort_complex(complex))"
   ]
  },
  {
   "cell_type": "markdown",
   "id": "f74f1a0f-eea6-40c0-88be-962ff3e3cdb7",
   "metadata": {},
   "source": [
    "#### 6) Write a NumPy program to create a 1D array with random numbers and print the values greater than 4"
   ]
  },
  {
   "cell_type": "code",
   "execution_count": 48,
   "id": "e903a79b-c5f5-4211-b409-4658893a532e",
   "metadata": {},
   "outputs": [
    {
     "name": "stdout",
     "output_type": "stream",
     "text": [
      "[9 8 3 7 9 1 0 2 2 4]\n",
      "[9 8 7 9]\n"
     ]
    }
   ],
   "source": [
    "arr3 = np.random.randint(0, 10, 10)\n",
    "print(arr3)\n",
    "print(arr3[arr3>4])"
   ]
  },
  {
   "cell_type": "markdown",
   "id": "e4cf83c5-df6f-4032-bdd5-b476d3e5531b",
   "metadata": {},
   "source": [
    "#### 7. Write a numpy program to create a 1D array with random numbers and search a particular number given by the user"
   ]
  },
  {
   "cell_type": "code",
   "execution_count": 71,
   "id": "221941d3-bea3-4efa-8eaa-294a71ea0fd8",
   "metadata": {},
   "outputs": [
    {
     "name": "stdout",
     "output_type": "stream",
     "text": [
      "[96 65 90 99 73  5 12 41 44 76]\n"
     ]
    },
    {
     "name": "stdin",
     "output_type": "stream",
     "text": [
      "Enter a number:  99\n"
     ]
    },
    {
     "name": "stdout",
     "output_type": "stream",
     "text": [
      "(array([3], dtype=int64),)\n"
     ]
    }
   ],
   "source": [
    "arr4 = np.random.randint(1, 100, 10)\n",
    "print(arr4)\n",
    "num = int(input(\"Enter a number: \"))\n",
    "print(np.where(arr4==num))"
   ]
  },
  {
   "cell_type": "markdown",
   "id": "a73735e4-5e88-4f8a-b137-e66cb7090edf",
   "metadata": {},
   "source": [
    "#### 8. Write a NumPy program to save a given array to a text file and load it"
   ]
  },
  {
   "cell_type": "code",
   "execution_count": 57,
   "id": "1bff3931-08f4-478d-9204-9cf2a8703c8a",
   "metadata": {},
   "outputs": [
    {
     "name": "stdout",
     "output_type": "stream",
     "text": [
      "Original array: [10 20 30 40 50]\n",
      "Array saved to 'array_data.txt'.\n",
      "Loaded array: [10 20 30 40 50]\n"
     ]
    }
   ],
   "source": [
    "arr = np.array([10, 20, 30, 40, 50])\n",
    "print(\"Original array:\", arr)\n",
    "\n",
    "np.savetxt(\"array_data.txt\", arr, fmt='%d')\n",
    "print(\"Array saved to 'array_data.txt'.\")\n",
    "\n",
    "loaded_arr = np.loadtxt(\"array_data.txt\", dtype=int)\n",
    "print(\"Loaded array:\", loaded_arr)"
   ]
  },
  {
   "cell_type": "code",
   "execution_count": 58,
   "id": "edde25b5-102d-4337-959b-071ce11a091f",
   "metadata": {},
   "outputs": [
    {
     "name": "stdout",
     "output_type": "stream",
     "text": [
      "Original array: [ 5 10 15 20 25]\n",
      "Array saved to 'my_array.txt' using file handling.\n",
      "Loaded array: [ 5 10 15 20 25]\n"
     ]
    }
   ],
   "source": [
    "arr = np.array([5, 10, 15, 20, 25])\n",
    "print(\"Original array:\", arr)\n",
    "\n",
    "with open(\"my_array.txt\", \"w\") as f:\n",
    "    for item in arr:\n",
    "        f.write(f\"{item}\\n\")\n",
    "\n",
    "print(\"Array saved to 'my_array.txt' using file handling.\")\n",
    "\n",
    "loaded_list = []\n",
    "with open(\"my_array.txt\", \"r\") as f:\n",
    "    for line in f:\n",
    "        loaded_list.append(int(line.strip()))\n",
    "\n",
    "loaded_arr = np.array(loaded_list)\n",
    "print(\"Loaded array:\", loaded_arr)"
   ]
  },
  {
   "cell_type": "markdown",
   "id": "0416ac1a-545e-421b-b443-90c42f5f98d4",
   "metadata": {},
   "source": [
    "#### 9) Write a NumPy program to create an array of all the even integers from 30 to 60"
   ]
  },
  {
   "cell_type": "code",
   "execution_count": 59,
   "id": "b2d9a2fb-9cd8-4bb1-a2a8-4953181f010c",
   "metadata": {},
   "outputs": [
    {
     "name": "stdout",
     "output_type": "stream",
     "text": [
      "[30 32 34 36 38 40 42 44 46 48 50 52 54 56 58 60]\n"
     ]
    }
   ],
   "source": [
    "even_arr = np.arange(30, 61, 2)\n",
    "print(even_arr)"
   ]
  },
  {
   "cell_type": "markdown",
   "id": "9b64ba03-93af-4259-b837-b0fe07c49231",
   "metadata": {},
   "source": [
    "#### 10) Write a NumPy program to compute sum of all elements, sum of each column and sum of each row of a given array"
   ]
  },
  {
   "cell_type": "code",
   "execution_count": 66,
   "id": "bf500461-2470-45f3-b854-2b03b964a3a7",
   "metadata": {},
   "outputs": [
    {
     "name": "stdout",
     "output_type": "stream",
     "text": [
      "Sum of all elements:  180\n",
      "Sum of each column:  [15 35 55 75]\n",
      "Sum of each row:  [100  80]\n"
     ]
    }
   ],
   "source": [
    "arr = np.array([[10, 20, 30, 40],[5, 15, 25, 35]])\n",
    "print(\"Sum of all elements: \", arr.sum())\n",
    "print(\"Sum of each column: \", arr.sum(axis=0))\n",
    "print(\"Sum of each row: \", arr.sum(axis=1))"
   ]
  }
 ],
 "metadata": {
  "kernelspec": {
   "display_name": "Python 3 (ipykernel)",
   "language": "python",
   "name": "python3"
  },
  "language_info": {
   "codemirror_mode": {
    "name": "ipython",
    "version": 3
   },
   "file_extension": ".py",
   "mimetype": "text/x-python",
   "name": "python",
   "nbconvert_exporter": "python",
   "pygments_lexer": "ipython3",
   "version": "3.12.0"
  }
 },
 "nbformat": 4,
 "nbformat_minor": 5
}
