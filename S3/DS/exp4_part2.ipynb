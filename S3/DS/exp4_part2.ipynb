{
 "cells": [
  {
   "cell_type": "code",
   "execution_count": 1,
   "id": "d7781dcc",
   "metadata": {},
   "outputs": [
    {
     "name": "stdout",
     "output_type": "stream",
     "text": [
      "Original DataFrame with custom index:\n",
      "      Name  Age\n",
      "a    Alice   24\n",
      "b      Bob   27\n",
      "c  Charlie   22\n",
      "\n",
      "DataFrame with default index:\n",
      "      Name  Age\n",
      "0    Alice   24\n",
      "1      Bob   27\n",
      "2  Charlie   22\n"
     ]
    }
   ],
   "source": [
    "import pandas as pd\n",
    "\n",
    "# Sample DataFrame with custom indexing\n",
    "data = {'Name': ['Alice', 'Bob', 'Charlie'],\n",
    "        'Age': [24, 27, 22]}\n",
    "\n",
    "df = pd.DataFrame(data, index=['a', 'b', 'c'])\n",
    "print(\"Original DataFrame with custom index:\")\n",
    "print(df)\n",
    "\n",
    "# Reset index to default (0,1,2,…)\n",
    "df_reset = df.reset_index(drop=True)  # drop=True removes the old index\n",
    "print(\"\\nDataFrame with default index:\")\n",
    "print(df_reset)"
   ]
  },
  {
   "cell_type": "code",
   "execution_count": 5,
   "id": "0947ecb2",
   "metadata": {},
   "outputs": [
    {
     "name": "stdout",
     "output_type": "stream",
     "text": [
      "First 2 rows using head():\n",
      "    Name  Age\n",
      "0  Alice   24\n",
      "1    Bob   27\n",
      "\n",
      "First 2 rows using slicing:\n",
      "    Name  Age\n",
      "0  Alice   24\n",
      "1    Bob   27\n"
     ]
    }
   ],
   "source": [
    "import pandas as pd\n",
    "\n",
    "# Sample DataFrame\n",
    "data = {'Name': ['Alice', 'Bob', 'Charlie', 'David'],\n",
    "        'Age': [24, 27, 22, 30]}\n",
    "\n",
    "df = pd.DataFrame(data)\n",
    "\n",
    "# Method 1: Using head()\n",
    "print(\"First 2 rows using head():\")\n",
    "print(df.head(2))\n",
    "\n",
    "# Method 2: Using slicing\n",
    "print(\"\\nFirst 2 rows using slicing:\")\n",
    "print(df[:2])\n"
   ]
  },
  {
   "cell_type": "code",
   "execution_count": 6,
   "id": "432b8c7b",
   "metadata": {},
   "outputs": [
    {
     "name": "stdout",
     "output_type": "stream",
     "text": [
      "Average salary per occupation:\n",
      "Occupation\n",
      "Doctor      82500.0\n",
      "Engineer    72500.0\n",
      "Teacher     60000.0\n",
      "Name: Salary, dtype: float64\n"
     ]
    }
   ],
   "source": [
    "import pandas as pd\n",
    "\n",
    "# Sample DataFrame\n",
    "data = {'Name': ['Alice', 'Bob', 'Charlie', 'David', 'Eve'],\n",
    "        'Occupation': ['Engineer', 'Doctor', 'Engineer', 'Doctor', 'Teacher'],\n",
    "        'Salary': [70000, 80000, 75000, 85000, 60000]}\n",
    "\n",
    "df = pd.DataFrame(data)\n",
    "\n",
    "# Group by occupation and calculate average salary\n",
    "avg_salary = df.groupby('Occupation')['Salary'].mean()\n",
    "\n",
    "print(\"Average salary per occupation:\")\n",
    "print(avg_salary)\n"
   ]
  },
  {
   "cell_type": "code",
   "execution_count": 8,
   "id": "479d09c8",
   "metadata": {},
   "outputs": [
    {
     "data": {
      "text/plain": [
       "pandas.core.series.Series"
      ]
     },
     "execution_count": 8,
     "metadata": {},
     "output_type": "execute_result"
    }
   ],
   "source": [
    "type(avg_salary)"
   ]
  },
  {
   "cell_type": "code",
   "execution_count": 9,
   "id": "42677223",
   "metadata": {},
   "outputs": [
    {
     "name": "stdout",
     "output_type": "stream",
     "text": [
      "Original DataFrame:\n",
      "      Name   Age   Salary\n",
      "0    Alice  24.0  70000.0\n",
      "1      Bob   NaN  80000.0\n",
      "2  Charlie  22.0      NaN\n",
      "\n",
      "DataFrame after filling NaN with 0:\n",
      "      Name   Age   Salary\n",
      "0    Alice  24.0  70000.0\n",
      "1      Bob   0.0  80000.0\n",
      "2  Charlie  22.0      0.0\n"
     ]
    }
   ],
   "source": [
    "import pandas as pd\n",
    "import numpy as np\n",
    "\n",
    "# Sample DataFrame with NaN values\n",
    "data = {'Name': ['Alice', 'Bob', 'Charlie'],\n",
    "        'Age': [24, np.nan, 22],\n",
    "        'Salary': [70000, 80000, np.nan]}\n",
    "\n",
    "df = pd.DataFrame(data)\n",
    "print(\"Original DataFrame:\")\n",
    "print(df)\n",
    "\n",
    "# Fill NaN values with 0\n",
    "df_filled = df.fillna(0)\n",
    "print(\"\\nDataFrame after filling NaN with 0:\")\n",
    "print(df_filled)\n"
   ]
  },
  {
   "cell_type": "code",
   "execution_count": 10,
   "id": "24a3ac4d",
   "metadata": {},
   "outputs": [
    {
     "name": "stdout",
     "output_type": "stream",
     "text": [
      "Original DataFrame:\n",
      "    cname  profit\n",
      "0  A Corp    5000\n",
      "1   B Ltd   -2000\n",
      "2   C Inc       0\n",
      "3   D LLC    3000\n",
      "\n",
      "DataFrame after converting profit to True/False:\n",
      "    cname  profit\n",
      "0  A Corp    True\n",
      "1   B Ltd   False\n",
      "2   C Inc   False\n",
      "3   D LLC    True\n"
     ]
    }
   ],
   "source": [
    "import pandas as pd\n",
    "\n",
    "# Sample DataFrame\n",
    "data = {'cname': ['A Corp', 'B Ltd', 'C Inc', 'D LLC'],\n",
    "        'profit': [5000, -2000, 0, 3000]}\n",
    "\n",
    "df = pd.DataFrame(data)\n",
    "print(\"Original DataFrame:\")\n",
    "print(df)\n",
    "\n",
    "# Convert profit values: >0 → True, else → False\n",
    "df['profit'] = df['profit'] > 0\n",
    "\n",
    "print(\"\\nDataFrame after converting profit to True/False:\")\n",
    "print(df)"
   ]
  },
  {
   "cell_type": "code",
   "execution_count": 11,
   "id": "75addab1",
   "metadata": {},
   "outputs": [
    {
     "name": "stdout",
     "output_type": "stream",
     "text": [
      "Merged DataFrame with Position:\n",
      "   eid    ename  stipend  position\n",
      "0  101    Alice     5000   Manager\n",
      "1  102      Bob     6000  Engineer\n",
      "2  103  Charlie     5500   Analyst\n"
     ]
    }
   ],
   "source": [
    "import pandas as pd\n",
    "\n",
    "# Sample DataFrames\n",
    "df1 = pd.DataFrame({\n",
    "    'eid': [101, 102, 103],\n",
    "    'ename': ['Alice', 'Bob', 'Charlie'],\n",
    "    'stipend': [5000, 6000, 5500]\n",
    "})\n",
    "\n",
    "df2 = pd.DataFrame({\n",
    "    'eid': [101, 102, 103],\n",
    "    'designation': ['Manager', 'Engineer', 'Analyst']\n",
    "})\n",
    "\n",
    "# Merge the two DataFrames on 'eid'\n",
    "merged_df = pd.merge(df1, df2, on='eid')\n",
    "\n",
    "# Rename 'designation' column to 'position'\n",
    "merged_df.rename(columns={'designation': 'position'}, inplace=True)\n",
    "\n",
    "print(\"Merged DataFrame with Position:\")\n",
    "print(merged_df)\n"
   ]
  },
  {
   "cell_type": "code",
   "execution_count": null,
   "id": "8cbb705e",
   "metadata": {},
   "outputs": [],
   "source": []
  }
 ],
 "metadata": {
  "kernelspec": {
   "display_name": "Python 3 (ipykernel)",
   "language": "python",
   "name": "python3"
  },
  "language_info": {
   "codemirror_mode": {
    "name": "ipython",
    "version": 3
   },
   "file_extension": ".py",
   "mimetype": "text/x-python",
   "name": "python",
   "nbconvert_exporter": "python",
   "pygments_lexer": "ipython3",
   "version": "3.11.0"
  }
 },
 "nbformat": 4,
 "nbformat_minor": 5
}
