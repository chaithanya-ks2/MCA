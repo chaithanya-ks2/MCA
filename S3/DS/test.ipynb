{
 "cells": [
  {
   "cell_type": "code",
   "execution_count": 42,
   "id": "8c530797",
   "metadata": {},
   "outputs": [],
   "source": [
    "import numpy as np\n",
    "import scipy as sp"
   ]
  },
  {
   "cell_type": "code",
   "execution_count": null,
   "id": "994d782f",
   "metadata": {},
   "outputs": [
    {
     "name": "stdout",
     "output_type": "stream",
     "text": [
      "[1 2 3 4 5]\n"
     ]
    }
   ],
   "source": [
    "arr1=(1,2,3,4,5)\n",
    "arr1_p=np.array(arr1)\n",
    "print(arr1_p)"
   ]
  },
  {
   "cell_type": "code",
   "execution_count": null,
   "id": "303c0076",
   "metadata": {},
   "outputs": [
    {
     "name": "stdout",
     "output_type": "stream",
     "text": [
      "int32\n",
      "<class 'numpy.ndarray'>\n"
     ]
    }
   ],
   "source": [
    "print(arr1.dtype)\n",
    "print(type(arr1))"
   ]
  },
  {
   "cell_type": "code",
   "execution_count": null,
   "id": "b788bf8a",
   "metadata": {},
   "outputs": [],
   "source": [
    "b=np.array([4,5,6])\n"
   ]
  },
  {
   "cell_type": "code",
   "execution_count": 6,
   "id": "1ab4fb63",
   "metadata": {},
   "outputs": [
    {
     "data": {
      "text/plain": [
       "array([100, 105, 110, 115, 120, 125, 130, 135, 140, 145, 150, 155, 160,\n",
       "       165, 170, 175, 180, 185, 190, 195])"
      ]
     },
     "execution_count": 6,
     "metadata": {},
     "output_type": "execute_result"
    }
   ],
   "source": [
    "c=np.arange(100,200,5)\n",
    "c"
   ]
  },
  {
   "cell_type": "code",
   "execution_count": 9,
   "id": "6fd8da11",
   "metadata": {},
   "outputs": [
    {
     "data": {
      "text/plain": [
       "array([[0., 0., 0., 0.],\n",
       "       [0., 0., 0., 0.],\n",
       "       [0., 0., 0., 0.]])"
      ]
     },
     "execution_count": 9,
     "metadata": {},
     "output_type": "execute_result"
    }
   ],
   "source": [
    "d=np.zeros((3,4))\n",
    "d"
   ]
  },
  {
   "cell_type": "code",
   "execution_count": 12,
   "id": "74e4ce49",
   "metadata": {},
   "outputs": [
    {
     "data": {
      "text/plain": [
       "array([[1., 1., 1., 1.],\n",
       "       [1., 1., 1., 1.],\n",
       "       [1., 1., 1., 1.]])"
      ]
     },
     "execution_count": 12,
     "metadata": {},
     "output_type": "execute_result"
    }
   ],
   "source": [
    "d=np.ones((3,4))\n",
    "d"
   ]
  },
  {
   "cell_type": "code",
   "execution_count": 13,
   "id": "724f2914",
   "metadata": {},
   "outputs": [
    {
     "data": {
      "text/plain": [
       "array([[1., 0., 0.],\n",
       "       [0., 1., 0.],\n",
       "       [0., 0., 1.]])"
      ]
     },
     "execution_count": 13,
     "metadata": {},
     "output_type": "execute_result"
    }
   ],
   "source": [
    "ey=np.eye(3)\n",
    "ey"
   ]
  },
  {
   "cell_type": "code",
   "execution_count": 14,
   "id": "6b2cc37f",
   "metadata": {},
   "outputs": [
    {
     "data": {
      "text/plain": [
       "array([[1., 0., 0., 0.],\n",
       "       [0., 1., 0., 0.],\n",
       "       [0., 0., 1., 0.],\n",
       "       [0., 0., 0., 1.]])"
      ]
     },
     "execution_count": 14,
     "metadata": {},
     "output_type": "execute_result"
    }
   ],
   "source": [
    "np.identity(4)"
   ]
  },
  {
   "cell_type": "code",
   "execution_count": 30,
   "id": "1e0f102f",
   "metadata": {},
   "outputs": [
    {
     "name": "stdout",
     "output_type": "stream",
     "text": [
      "[1 2 3 4 5 6 7 8 9]\n",
      "[3 4 5]\n",
      "[8 7 6]\n"
     ]
    }
   ],
   "source": [
    "arr3 = np.arange(1,10)\n",
    "print(arr3)\n",
    "print(arr3[2:5])\n",
    "print(arr3[-2:-5:-1])"
   ]
  },
  {
   "cell_type": "code",
   "execution_count": 22,
   "id": "d338b50b",
   "metadata": {},
   "outputs": [
    {
     "data": {
      "text/plain": [
       "array([[1, 2, 3],\n",
       "       [4, 5, 6],\n",
       "       [7, 8, 9]])"
      ]
     },
     "execution_count": 22,
     "metadata": {},
     "output_type": "execute_result"
    }
   ],
   "source": [
    "np.arange(1,10).reshape(3,3)"
   ]
  },
  {
   "cell_type": "code",
   "execution_count": 31,
   "id": "37f0eb36",
   "metadata": {},
   "outputs": [
    {
     "data": {
      "text/plain": [
       "array([0.  , 0.25, 0.5 , 0.75, 1.  ])"
      ]
     },
     "execution_count": 31,
     "metadata": {},
     "output_type": "execute_result"
    }
   ],
   "source": [
    "np.linspace(0, 1, 5)"
   ]
  },
  {
   "cell_type": "code",
   "execution_count": 32,
   "id": "a2f3cb9e",
   "metadata": {},
   "outputs": [
    {
     "name": "stdout",
     "output_type": "stream",
     "text": [
      "[1 2 3 4 5 6 7 8 9]\n"
     ]
    }
   ],
   "source": [
    "arr4_cpy=np.copy(arr3)\n",
    "print(arr4_cpy)"
   ]
  },
  {
   "cell_type": "code",
   "execution_count": 33,
   "id": "c59ed94c",
   "metadata": {},
   "outputs": [
    {
     "name": "stdout",
     "output_type": "stream",
     "text": [
      "[1 2 3 4 5 6 7 8 9]\n"
     ]
    }
   ],
   "source": [
    "arr3_copy = arr3[:]\n",
    "print(arr3_copy)"
   ]
  },
  {
   "cell_type": "code",
   "execution_count": 37,
   "id": "846dba45",
   "metadata": {},
   "outputs": [
    {
     "name": "stdout",
     "output_type": "stream",
     "text": [
      "[2 3 4 5 6]\n"
     ]
    }
   ],
   "source": [
    "arr3_copy = np.array([2, 3,4 ,5,6])\n",
    "print(arr3_copy)"
   ]
  },
  {
   "cell_type": "code",
   "execution_count": null,
   "id": "f4d274dd",
   "metadata": {},
   "outputs": [
    {
     "name": "stdout",
     "output_type": "stream",
     "text": [
      "[1 2 3 3 5 6]\n"
     ]
    }
   ],
   "source": [
    "a = np.array([1, 2, 3])\n",
    "b = np.array([4, 5, 6])\n",
    "c=np.concatenate((a, b))\n",
    "print(c)"
   ]
  },
  {
   "cell_type": "code",
   "execution_count": 53,
   "id": "8506ed99",
   "metadata": {},
   "outputs": [
    {
     "name": "stdout",
     "output_type": "stream",
     "text": [
      "[[ 1  2  3  7  8  9]\n",
      " [ 4  5  6 10 11 12]]\n"
     ]
    }
   ],
   "source": [
    "matrix1= np.array([[1, 2, 3], [4, 5, 6]])\n",
    "matrix2= np.array([[7, 8, 9], [10, 11, 12]])\n",
    "matrix3 = np.concatenate((matrix1, matrix2), axis=1)\n",
    "print(matrix3)"
   ]
  },
  {
   "cell_type": "code",
   "execution_count": 66,
   "id": "41b7b06c",
   "metadata": {},
   "outputs": [
    {
     "name": "stdout",
     "output_type": "stream",
     "text": [
      "(array([3], dtype=int64),)\n",
      "4 is present in the array location  3\n"
     ]
    }
   ],
   "source": [
    "find_element=np.where(arr3==4)\n",
    "print(find_element)\n",
    "\n",
    "if find_element[0].size > 0:\n",
    "    print(f\"4 is present in the array location  {find_element[0][0]}\")\n",
    "else:\n",
    "    print(\"4 is not present in the array\")\n",
    "\n"
   ]
  },
  {
   "cell_type": "code",
   "execution_count": null,
   "id": "efc7db92",
   "metadata": {},
   "outputs": [],
   "source": []
  }
 ],
 "metadata": {
  "kernelspec": {
   "display_name": "base",
   "language": "python",
   "name": "python3"
  },
  "language_info": {
   "codemirror_mode": {
    "name": "ipython",
    "version": 3
   },
   "file_extension": ".py",
   "mimetype": "text/x-python",
   "name": "python",
   "nbconvert_exporter": "python",
   "pygments_lexer": "ipython3",
   "version": "3.12.4"
  }
 },
 "nbformat": 4,
 "nbformat_minor": 5
}
