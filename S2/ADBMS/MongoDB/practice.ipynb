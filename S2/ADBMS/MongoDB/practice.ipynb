{
 "cells": [
  {
   "cell_type": "code",
   "execution_count": 2,
   "id": "0b967eaf",
   "metadata": {},
   "outputs": [],
   "source": [
    "import pymongo"
   ]
  },
  {
   "cell_type": "code",
   "execution_count": 3,
   "id": "9e2735d7",
   "metadata": {},
   "outputs": [],
   "source": [
    "conn = pymongo.MongoClient(\"mongodb://localhost:27017/\")\n",
    "db = conn[\"testDB\"]\n",
    "col = db[\"test\"]"
   ]
  },
  {
   "cell_type": "code",
   "execution_count": 4,
   "id": "ecf654ac",
   "metadata": {},
   "outputs": [
    {
     "data": {
      "text/plain": [
       "InsertManyResult([ObjectId('683e27308f8605925933f7c9'), ObjectId('683e27308f8605925933f7ca'), ObjectId('683e27308f8605925933f7cb')], acknowledged=True)"
      ]
     },
     "execution_count": 4,
     "metadata": {},
     "output_type": "execute_result"
    }
   ],
   "source": [
    "value = [{\"Name\": \"John\", \"Age\": 50, \"Dept\": \"Sales\"},\n",
    "         {\"Name\": \"John\", \"Age\": 25, \"Dept\": \"Marketing\"},\n",
    "         {\"Name\": \"Bob\", \"Age\": 36, \"Dept\": \"IT\"}]\n",
    "\n",
    "col.insert_many(value)"
   ]
  },
  {
   "cell_type": "code",
   "execution_count": 5,
   "id": "241430d8",
   "metadata": {},
   "outputs": [
    {
     "name": "stdout",
     "output_type": "stream",
     "text": [
      "{'_id': ObjectId('683e27308f8605925933f7c9'), 'Name': 'John', 'Age': 50, 'Dept': 'Sales'}\n",
      "{'_id': ObjectId('683e27308f8605925933f7ca'), 'Name': 'John', 'Age': 25, 'Dept': 'Marketing'}\n",
      "{'_id': ObjectId('683e27308f8605925933f7cb'), 'Name': 'Bob', 'Age': 36, 'Dept': 'IT'}\n"
     ]
    }
   ],
   "source": [
    "for document in col.find():\n",
    "    print(document)"
   ]
  },
  {
   "cell_type": "code",
   "execution_count": 6,
   "id": "d19d2724",
   "metadata": {},
   "outputs": [
    {
     "name": "stdout",
     "output_type": "stream",
     "text": [
      "{'_id': ObjectId('683e27308f8605925933f7c9'), 'Name': 'John', 'Age': 50, 'Dept': 'Sales'}\n"
     ]
    }
   ],
   "source": [
    "for document in col.find({'Dept': 'Sales'}):\n",
    "    print(document)"
   ]
  },
  {
   "cell_type": "code",
   "execution_count": 7,
   "id": "e288b7eb",
   "metadata": {},
   "outputs": [
    {
     "name": "stdout",
     "output_type": "stream",
     "text": [
      "{'_id': ObjectId('683e27308f8605925933f7c9'), 'Name': 'John', 'Age': 50, 'Dept': 'Sales'}\n",
      "{'_id': ObjectId('683e27308f8605925933f7cb'), 'Name': 'Bob', 'Age': 36, 'Dept': 'IT'}\n"
     ]
    }
   ],
   "source": [
    "for document in col.find({\"Age\": {\"$gt\": 30}}):\n",
    "    print(document)"
   ]
  },
  {
   "cell_type": "code",
   "execution_count": 8,
   "id": "1b4f41b2",
   "metadata": {},
   "outputs": [
    {
     "name": "stdout",
     "output_type": "stream",
     "text": [
      "{'_id': ObjectId('683e27308f8605925933f7ca'), 'Name': 'John', 'Age': 25, 'Dept': 'Marketing'}\n"
     ]
    }
   ],
   "source": [
    "for document in col.find({\"Dept\":\"Marketing\", \"Age\":{\"$lt\": 30}}):\n",
    "    print(document)"
   ]
  },
  {
   "cell_type": "code",
   "execution_count": 9,
   "id": "e12ea21b",
   "metadata": {},
   "outputs": [
    {
     "name": "stdout",
     "output_type": "stream",
     "text": [
      "{'_id': ObjectId('683e27308f8605925933f7c9'), 'Name': 'John', 'Age': 50, 'Dept': 'Sales'}\n",
      "{'_id': ObjectId('683e27308f8605925933f7ca'), 'Name': 'John', 'Age': 25, 'Dept': 'Marketing'}\n"
     ]
    }
   ],
   "source": [
    "for document in col.find({\"Name\": {\"$regex\": \"^J\"}}):\n",
    "    print(document)"
   ]
  },
  {
   "cell_type": "code",
   "execution_count": 10,
   "id": "7f2e2985",
   "metadata": {},
   "outputs": [
    {
     "name": "stdout",
     "output_type": "stream",
     "text": [
      "{'_id': ObjectId('683e27308f8605925933f7c9'), 'Name': 'John', 'Age': 50, 'Dept': 'Sales'}\n",
      "{'_id': ObjectId('683e27308f8605925933f7cb'), 'Name': 'Bob', 'Age': 36, 'Dept': 'IT'}\n"
     ]
    }
   ],
   "source": [
    "for document in col.find({\"Dept\": {\"$in\": [\"IT\", \"Sales\"]}}):\n",
    "    print(document)"
   ]
  },
  {
   "cell_type": "code",
   "execution_count": 12,
   "id": "10224357",
   "metadata": {},
   "outputs": [
    {
     "name": "stdout",
     "output_type": "stream",
     "text": [
      "{'_id': ObjectId('683e27308f8605925933f7c9'), 'Name': 'John', 'Age': 50, 'Dept': 'Sales'}\n",
      "{'_id': ObjectId('683e27308f8605925933f7cb'), 'Name': 'Bob', 'Age': 36, 'Dept': 'IT'}\n"
     ]
    }
   ],
   "source": [
    "for document in col.find({\"$or\": [{\"Dept\": \"IT\"}, {\"Dept\": \"Sales\"}]}):\n",
    "    print(document)"
   ]
  },
  {
   "cell_type": "code",
   "execution_count": 13,
   "id": "641d6386",
   "metadata": {},
   "outputs": [],
   "source": [
    "col = db[\"Student\"]"
   ]
  },
  {
   "cell_type": "code",
   "execution_count": 14,
   "id": "6f76e3e2",
   "metadata": {},
   "outputs": [
    {
     "data": {
      "text/plain": [
       "InsertManyResult([ObjectId('683e2de18f8605925933f7cc'), ObjectId('683e2de18f8605925933f7cd'), ObjectId('683e2de18f8605925933f7ce'), ObjectId('683e2de18f8605925933f7cf'), ObjectId('683e2de18f8605925933f7d0'), ObjectId('683e2de18f8605925933f7d1')], acknowledged=True)"
      ]
     },
     "execution_count": 14,
     "metadata": {},
     "output_type": "execute_result"
    }
   ],
   "source": [
    "value = [{\"Name\": \"John\", \"Sub\": \"Maths\", \"Mark\": 80},\n",
    "         {\"Name\": \"John\", \"Sub\": \"Science\", \"Mark\": 70},\n",
    "         {\"Name\": \"John\", \"Sub\": \"Maths\", \"Mark\": 70},\n",
    "         {\"Name\": \"John\", \"Sub\": \"Science\", \"Mark\": 85},\n",
    "         {\"Name\": \"Bob\", \"Sub\": \"Maths\", \"Mark\": 60},\n",
    "         {\"Name\":\"Bob\", \"Sub\": \"Science\", \"Mark\": 75}]\n",
    "\n",
    "col.insert_many(value)"
   ]
  },
  {
   "cell_type": "code",
   "execution_count": 15,
   "id": "9b2e993b",
   "metadata": {},
   "outputs": [
    {
     "name": "stdout",
     "output_type": "stream",
     "text": [
      "{'_id': ObjectId('683e2de18f8605925933f7cc'), 'Name': 'John', 'Sub': 'Maths', 'Mark': 80}\n",
      "{'_id': ObjectId('683e2de18f8605925933f7cd'), 'Name': 'John', 'Sub': 'Science', 'Mark': 70}\n",
      "{'_id': ObjectId('683e2de18f8605925933f7ce'), 'Name': 'John', 'Sub': 'Maths', 'Mark': 70}\n",
      "{'_id': ObjectId('683e2de18f8605925933f7cf'), 'Name': 'John', 'Sub': 'Science', 'Mark': 85}\n",
      "{'_id': ObjectId('683e2de18f8605925933f7d0'), 'Name': 'Bob', 'Sub': 'Maths', 'Mark': 60}\n",
      "{'_id': ObjectId('683e2de18f8605925933f7d1'), 'Name': 'Bob', 'Sub': 'Science', 'Mark': 75}\n"
     ]
    }
   ],
   "source": [
    "for document in col.find():\n",
    "    print(document)"
   ]
  },
  {
   "cell_type": "code",
   "execution_count": 21,
   "id": "1bc73d94",
   "metadata": {},
   "outputs": [
    {
     "name": "stdout",
     "output_type": "stream",
     "text": [
      "{'_id': 'John', 'total marks': 305}\n",
      "{'_id': 'Bob', 'total marks': 135}\n"
     ]
    }
   ],
   "source": [
    "for document in col.aggregate([{\"$group\": {\"_id\": \"$Name\",\n",
    "                                          \"total marks\": {\"$sum\": \"$Mark\"}}}]):\n",
    "    print(document)"
   ]
  },
  {
   "cell_type": "code",
   "execution_count": 22,
   "id": "3f835d9c",
   "metadata": {},
   "outputs": [
    {
     "name": "stdout",
     "output_type": "stream",
     "text": [
      "John: 305\n",
      "Bob: 135\n"
     ]
    }
   ],
   "source": [
    "pipeline = [\n",
    "    {\n",
    "        \"$group\": {\n",
    "            \"_id\": \"$Name\",\n",
    "            \"total_mark\": {\"$sum\": \"$Mark\"}\n",
    "        }\n",
    "    }\n",
    "]\n",
    "\n",
    "results = col.aggregate(pipeline)\n",
    "\n",
    "for doc in results:\n",
    "    print(f\"{doc['_id']}: {doc['total_mark']}\")"
   ]
  },
  {
   "cell_type": "code",
   "execution_count": 26,
   "id": "04b9fcf0",
   "metadata": {},
   "outputs": [
    {
     "name": "stdout",
     "output_type": "stream",
     "text": [
      "John: 76.25\n",
      "Bob: 67.5\n"
     ]
    }
   ],
   "source": [
    "for document in col.aggregate([{\"$group\": {\"_id\": \"$Name\",\n",
    "                                           \"average_mark\": {\"$avg\": \"$Mark\"}}}]):\n",
    "    print(f\"{document['_id']}: {document['average_mark']}\")"
   ]
  },
  {
   "cell_type": "code",
   "execution_count": 34,
   "id": "1610af09",
   "metadata": {},
   "outputs": [
    {
     "name": "stdout",
     "output_type": "stream",
     "text": [
      "{'_id': 'John', 'total marks': 305}\n",
      "{'_id': 'Bob', 'total marks': 135}\n"
     ]
    }
   ],
   "source": [
    "for document in col.aggregate([{\"$group\": {\"_id\": \"$Name\",\n",
    "                                          \"total marks\": {\"$sum\": \"$Mark\"}}}, {\"$sort\": {\"total marks\": -1}}]):\n",
    "    print(document)"
   ]
  },
  {
   "cell_type": "code",
   "execution_count": 33,
   "id": "8d726fc0",
   "metadata": {},
   "outputs": [
    {
     "name": "stdout",
     "output_type": "stream",
     "text": [
      "{'_id': 'Bob', 'total marks': 135}\n"
     ]
    }
   ],
   "source": [
    "for document in col.aggregate([{\"$group\": {\"_id\": \"$Name\",\n",
    "                                          \"total marks\": {\"$sum\": \"$Mark\"}}}, {\"$sort\": {\"total marks\": 1}}, {\"$limit\":1}]):\n",
    "    print(document)"
   ]
  },
  {
   "cell_type": "code",
   "execution_count": 35,
   "id": "e42add6a",
   "metadata": {},
   "outputs": [],
   "source": [
    "col = db[\"MCA\"]"
   ]
  },
  {
   "cell_type": "code",
   "execution_count": 36,
   "id": "4fa2038b",
   "metadata": {},
   "outputs": [
    {
     "data": {
      "text/plain": [
       "InsertManyResult([ObjectId('683e340f8f8605925933f7d2'), ObjectId('683e340f8f8605925933f7d3'), ObjectId('683e340f8f8605925933f7d4')], acknowledged=True)"
      ]
     },
     "execution_count": 36,
     "metadata": {},
     "output_type": "execute_result"
    }
   ],
   "source": [
    "value = [{\"Name\": \"John\", \"Age\": 20, \"Grade\": \"A\"},\n",
    "         {\"Name\": \"John\", \"Age\": 22, \"Grade\": \"B\"},\n",
    "         {\"Name\": \"John\", \"Age\": 21, \"Grade\": \"A\"}]\n",
    "\n",
    "col.insert_many(value)"
   ]
  },
  {
   "cell_type": "code",
   "execution_count": 37,
   "id": "c14d01d6",
   "metadata": {},
   "outputs": [
    {
     "name": "stdout",
     "output_type": "stream",
     "text": [
      "{'_id': ObjectId('683e340f8f8605925933f7d2'), 'Name': 'John', 'Age': 20, 'Grade': 'A'}\n",
      "{'_id': ObjectId('683e340f8f8605925933f7d3'), 'Name': 'John', 'Age': 22, 'Grade': 'B'}\n",
      "{'_id': ObjectId('683e340f8f8605925933f7d4'), 'Name': 'John', 'Age': 21, 'Grade': 'A'}\n"
     ]
    }
   ],
   "source": [
    "for doc in col.find():\n",
    "    print(doc)"
   ]
  },
  {
   "cell_type": "code",
   "execution_count": 39,
   "id": "52441434",
   "metadata": {},
   "outputs": [
    {
     "name": "stdout",
     "output_type": "stream",
     "text": [
      "{'_id': ObjectId('683e340f8f8605925933f7d3'), 'Name': 'John', 'Age': 22, 'Grade': 'B'}\n",
      "{'_id': ObjectId('683e340f8f8605925933f7d4'), 'Name': 'John', 'Age': 21, 'Grade': 'A'}\n"
     ]
    }
   ],
   "source": [
    "for doc in col.find({\"Age\": {\"$gt\": 20}}):\n",
    "    print(doc)"
   ]
  },
  {
   "cell_type": "code",
   "execution_count": 40,
   "id": "45ced813",
   "metadata": {},
   "outputs": [
    {
     "name": "stdout",
     "output_type": "stream",
     "text": [
      "{'_id': ObjectId('683e340f8f8605925933f7d2'), 'Name': 'John', 'Age': 20, 'Grade': 'A'}\n",
      "{'_id': ObjectId('683e340f8f8605925933f7d4'), 'Name': 'John', 'Age': 21, 'Grade': 'A'}\n"
     ]
    }
   ],
   "source": [
    "for doc in col.find({\"Grade\": \"A\"}):\n",
    "    print(doc)"
   ]
  },
  {
   "cell_type": "code",
   "execution_count": 41,
   "id": "57165f20",
   "metadata": {},
   "outputs": [
    {
     "name": "stdout",
     "output_type": "stream",
     "text": [
      "{'_id': ObjectId('683e340f8f8605925933f7d2'), 'Name': 'John', 'Age': 20, 'Grade': 'B'}\n",
      "{'_id': ObjectId('683e340f8f8605925933f7d3'), 'Name': 'John', 'Age': 22, 'Grade': 'B'}\n",
      "{'_id': ObjectId('683e340f8f8605925933f7d4'), 'Name': 'John', 'Age': 21, 'Grade': 'B'}\n"
     ]
    }
   ],
   "source": [
    "col.update_many({\"Name\": \"John\"}, {\"$set\": {\"Grade\": \"B\"}})\n",
    "\n",
    "for doc in col.find():\n",
    "    print(doc)"
   ]
  },
  {
   "cell_type": "code",
   "execution_count": 42,
   "id": "a237bcf1",
   "metadata": {},
   "outputs": [
    {
     "name": "stdout",
     "output_type": "stream",
     "text": [
      "{'_id': ObjectId('683e340f8f8605925933f7d2'), 'Name': 'John', 'Age': 20, 'Grade': 'B'}\n",
      "{'_id': ObjectId('683e340f8f8605925933f7d3'), 'Name': 'John', 'Age': 22, 'Grade': 'C'}\n",
      "{'_id': ObjectId('683e340f8f8605925933f7d4'), 'Name': 'John', 'Age': 21, 'Grade': 'B'}\n"
     ]
    }
   ],
   "source": [
    "col.update_many({\"Name\": \"John\", \"Age\":22}, {\"$set\": {\"Grade\": \"C\"}})\n",
    "\n",
    "for doc in col.find():\n",
    "    print(doc)"
   ]
  },
  {
   "cell_type": "code",
   "execution_count": 51,
   "id": "2cadb2c5",
   "metadata": {},
   "outputs": [
    {
     "name": "stdout",
     "output_type": "stream",
     "text": [
      "C: 22.0\n",
      "B: 20.5\n"
     ]
    }
   ],
   "source": [
    "for doc in col.aggregate([{\"$group\": {\"_id\": \"$Grade\",\n",
    "                                      \"avg_age\": {\"$avg\": \"$Age\"}}}]):\n",
    "    print(f\"{doc['_id']}: {doc['avg_age']}\")"
   ]
  },
  {
   "cell_type": "code",
   "execution_count": 52,
   "id": "03a73437",
   "metadata": {},
   "outputs": [
    {
     "name": "stdout",
     "output_type": "stream",
     "text": [
      "{'_id': ObjectId('683e340f8f8605925933f7d3'), 'Name': 'John', 'Age': 22, 'Grade': 'C'}\n",
      "{'_id': ObjectId('683e340f8f8605925933f7d4'), 'Name': 'John', 'Age': 21, 'Grade': 'B'}\n",
      "{'_id': ObjectId('683e340f8f8605925933f7d2'), 'Name': 'John', 'Age': 20, 'Grade': 'B'}\n"
     ]
    }
   ],
   "source": [
    "for doc in col.find().sort({\"Age\": -1}):\n",
    "    print(doc)"
   ]
  }
 ],
 "metadata": {
  "kernelspec": {
   "display_name": "Python 3",
   "language": "python",
   "name": "python3"
  },
  "language_info": {
   "codemirror_mode": {
    "name": "ipython",
    "version": 3
   },
   "file_extension": ".py",
   "mimetype": "text/x-python",
   "name": "python",
   "nbconvert_exporter": "python",
   "pygments_lexer": "ipython3",
   "version": "3.11.0"
  }
 },
 "nbformat": 4,
 "nbformat_minor": 5
}
