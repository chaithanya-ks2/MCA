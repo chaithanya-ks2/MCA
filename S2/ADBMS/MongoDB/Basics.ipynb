{
 "cells": [
  {
   "cell_type": "code",
   "execution_count": 8,
   "metadata": {
    "vscode": {
     "languageId": "plaintext"
    }
   },
   "outputs": [],
   "source": [
    "import pymongo"
   ]
  },
  {
   "cell_type": "code",
   "execution_count": 9,
   "metadata": {},
   "outputs": [],
   "source": [
    "conn = pymongo.MongoClient (\"mongodb://localhost:27017/\")\n",
    "db=conn[\"mydatabase\"]\n",
    "col=db[\"chai\"]"
   ]
  },
  {
   "cell_type": "code",
   "execution_count": 10,
   "metadata": {},
   "outputs": [
    {
     "data": {
      "text/plain": [
       "InsertManyResult([ObjectId('67d935b35a4d826230494f60'), ObjectId('67d935b35a4d826230494f61'), ObjectId('67d935b35a4d826230494f62')], acknowledged=True)"
      ]
     },
     "execution_count": 10,
     "metadata": {},
     "output_type": "execute_result"
    }
   ],
   "source": [
    "value = [{\"Name\":\"abc\",\"Age\":\"18\",\"Place\":\"Trivandrum\"},\n",
    "       {\"Name\":\"CHAI\",\"Age\":\"55\",\"Place\":\"MLP\"},\n",
    "       {\"Name\":\"ROHIT\",\"Age\":\"18\",\"Place\":\"KOCHI\"}]\n",
    "col.insert_many(value)"
   ]
  },
  {
   "cell_type": "code",
   "execution_count": 11,
   "metadata": {},
   "outputs": [
    {
     "data": {
      "text/plain": [
       "'document = col.find_many({\"Name\":\"abc\"})\\nprint(document)'"
      ]
     },
     "execution_count": 11,
     "metadata": {},
     "output_type": "execute_result"
    }
   ],
   "source": [
    "'''document = col.find_many({\"Name\":\"abc\"})\n",
    "print(document)'''"
   ]
  },
  {
   "cell_type": "code",
   "execution_count": 28,
   "metadata": {},
   "outputs": [
    {
     "name": "stdout",
     "output_type": "stream",
     "text": [
      "{'Name': 'CHAI'}\n"
     ]
    }
   ],
   "source": [
    "var=col.find({\"Name\":\"CHAI\"},{\"Name\":1, \"_id\":0})\n",
    "for i in var:\n",
    "    print(i)"
   ]
  },
  {
   "cell_type": "code",
   "execution_count": 44,
   "metadata": {},
   "outputs": [
    {
     "name": "stdout",
     "output_type": "stream",
     "text": [
      "{'_id': ObjectId('67d935b35a4d826230494f60'), 'Name': 'abc', 'Place': 'Trivandrum'}\n",
      "{'_id': ObjectId('67d935b35a4d826230494f61'), 'Name': 'CHAI', 'Place': 'MLP'}\n"
     ]
    }
   ],
   "source": [
    "var=col.find({},{\"Name\":1, \"_id\":1 ,\"Place\":1}).limit(2)\n",
    "for i in var:\n",
    "    print(i)"
   ]
  },
  {
   "cell_type": "code",
   "execution_count": null,
   "metadata": {},
   "outputs": [],
   "source": []
  },
  {
   "cell_type": "code",
   "execution_count": 49,
   "metadata": {},
   "outputs": [
    {
     "name": "stdout",
     "output_type": "stream",
     "text": [
      "{'Name': 'CHAI', 'Age': '55'}\n",
      "{'Name': 'ROHIT', 'Age': '18'}\n",
      "{'Name': 'abc', 'Age': '18'}\n"
     ]
    }
   ],
   "source": [
    "var=col.find({},{\"Name\":1,\"Age\":1,\"_id\":0}).sort(\"Name\")\n",
    "for i in var:\n",
    "    print(i)"
   ]
  },
  {
   "cell_type": "code",
   "execution_count": null,
   "metadata": {},
   "outputs": [],
   "source": []
  },
  {
   "cell_type": "code",
   "execution_count": 61,
   "metadata": {},
   "outputs": [
    {
     "name": "stdout",
     "output_type": "stream",
     "text": [
      "{'_id': ObjectId('67d935b35a4d826230494f61'), 'Name': 'CHAI', 'Age': '55', 'Place': 'MLP'}\n"
     ]
    }
   ],
   "source": [
    "var=col.find({\"Age\":{\"$gt\":\"40\"}}).sort(\"Age\")\n",
    "for i in var:\n",
    "    print(i)"
   ]
  },
  {
   "cell_type": "code",
   "execution_count": null,
   "metadata": {},
   "outputs": [],
   "source": []
  }
 ],
 "metadata": {
  "kernelspec": {
   "display_name": "Python 3 (ipykernel)",
   "language": "python",
   "name": "python3"
  },
  "language_info": {
   "codemirror_mode": {
    "name": "ipython",
    "version": 3
   },
   "file_extension": ".py",
   "mimetype": "text/x-python",
   "name": "python",
   "nbconvert_exporter": "python",
   "pygments_lexer": "ipython3",
   "version": "3.12.0"
  }
 },
 "nbformat": 4,
 "nbformat_minor": 4
}
