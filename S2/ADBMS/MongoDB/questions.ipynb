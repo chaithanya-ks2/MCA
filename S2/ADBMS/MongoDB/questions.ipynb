{
 "cells": [
  {
   "cell_type": "code",
   "execution_count": 1,
   "metadata": {},
   "outputs": [],
   "source": [
    "import pymongo"
   ]
  },
  {
   "cell_type": "code",
   "execution_count": 3,
   "metadata": {},
   "outputs": [],
   "source": [
    "conn = pymongo.MongoClient (\"mongodb://localhost:27017/\")\n",
    "db=conn[\"QS\"]\n",
    "col=db[\"std_details\"]"
   ]
  },
  {
   "cell_type": "code",
   "execution_count": 5,
   "metadata": {},
   "outputs": [
    {
     "data": {
      "text/plain": [
       "InsertManyResult([ObjectId('67e24896c0aa4a7bdb7af0d7'), ObjectId('67e24896c0aa4a7bdb7af0d8'), ObjectId('67e24896c0aa4a7bdb7af0d9'), ObjectId('67e24896c0aa4a7bdb7af0da')], acknowledged=True)"
      ]
     },
     "execution_count": 5,
     "metadata": {},
     "output_type": "execute_result"
    }
   ],
   "source": [
    "value = [{\"First_name\":\"Chaithanya\",\"Last_name\":\"Ks\",\"Gender\":\"Female\",\"Course\":\"MCA\",\"Place\":\"Thrissur\",\"Mark\":91,\"Grade\":\"A+\"},\n",
    "       {\"First_name\":\"Gokul\",\"Last_name\":\"P\",\"Gender\":\"Male\",\"Course\":\"MCA\",\"Place\":\"Malppuram\",\"Mark\":95,\"Grade\":\"A+\"},\n",
    "       {\"First_name\":\"Aradhya\",\"Last_name\":\"Ravi\",\"Gender\":\"Female\",\"Course\":\"Mechanical\",\"Place\":\"Trivandrum\",\"Mark\":85,\"Grade\":\"A\"},\n",
    "       {\"First_name\":\"Arun\",\"Last_name\":\"B\",\"Gender\":\"Male\",\"Course\":\"Civil\",\"Place\":\"Kollam\",\"Mark\":75,\"Grade\":\"B+\"}]\n",
    "col.insert_many(value)"
   ]
  },
  {
   "cell_type": "code",
   "execution_count": 9,
   "metadata": {},
   "outputs": [
    {
     "name": "stdout",
     "output_type": "stream",
     "text": [
      "{'First_name': 'Chaithanya', 'Last_name': 'Ks', 'Course': 'MCA', 'Mark': 91}\n"
     ]
    }
   ],
   "source": [
    "for document in col.find({\"Gender\": \"Female\", \n",
    "                               \"Course\": \"MCA\"}, {\"First_name\":1, \"Last_name\":1, \"Mark\":1, \"Course\":1, \"_id\":0}): \n",
    "    print(document)"
   ]
  },
  {
   "cell_type": "code",
   "execution_count": 12,
   "metadata": {},
   "outputs": [
    {
     "name": "stdout",
     "output_type": "stream",
     "text": [
      "{'_id': ObjectId('67e24896c0aa4a7bdb7af0d8'), 'First_name': 'Gokul', 'Last_name': 'P', 'Gender': 'Male', 'Course': 'MCA', 'Place': 'Malppuram', 'Mark': 95, 'Grade': 'A+'}\n"
     ]
    }
   ],
   "source": [
    "for document in col.find({\"Course\": \"MCA\"}).sort({\"Mark\": -1}).limit(1): \n",
    "    print(document)"
   ]
  },
  {
   "cell_type": "code",
   "execution_count": 13,
   "metadata": {},
   "outputs": [
    {
     "name": "stdout",
     "output_type": "stream",
     "text": [
      "{'First_name': 'Gokul', 'Last_name': 'P'}\n"
     ]
    }
   ],
   "source": [
    "for document in col.find({\"Gender\": \"Male\", \n",
    "                               \"Grade\": \"A+\"}, {\"First_name\":1, \"Last_name\":1, \"_id\":0}): \n",
    "    print(document)"
   ]
  },
  {
   "cell_type": "code",
   "execution_count": 14,
   "metadata": {},
   "outputs": [
    {
     "data": {
      "text/plain": [
       "InsertManyResult([ObjectId('67e24c4cc0aa4a7bdb7af0db'), ObjectId('67e24c4cc0aa4a7bdb7af0dc'), ObjectId('67e24c4cc0aa4a7bdb7af0dd'), ObjectId('67e24c4cc0aa4a7bdb7af0de')], acknowledged=True)"
      ]
     },
     "execution_count": 14,
     "metadata": {},
     "output_type": "execute_result"
    }
   ],
   "source": [
    "value = [{\"First_name\":\"Krishna\",\"Last_name\":\"A\",\"Gender\":\"Female\",\"Course\":\"Mechanical\",\"Place\":\"Thrissur\",\"Mark\":65,\"Grade\":\"B+\"},\n",
    "       {\"First_name\":\"Diva\",\"Last_name\":\"Sasi\",\"Gender\":\"Female\",\"Course\":\"Mehcanical\",\"Place\":\"Malppuram\",\"Mark\":69,\"Grade\":\"B+\"},\n",
    "       {\"First_name\":\"Rohit\",\"Last_name\":\"Shekhar\",\"Gender\":\"Male\",\"Course\":\"Mechanical\",\"Place\":\"Trivandrum\",\"Mark\":82,\"Grade\":\"A\"},\n",
    "       {\"First_name\":\"Abraham\",\"Last_name\":\"P\",\"Gender\":\"Male\",\"Course\":\"Mechanical\",\"Place\":\"Kollam\",\"Mark\":55,\"Grade\":\"C\"}]\n",
    "col.insert_many(value)"
   ]
  },
  {
   "cell_type": "code",
   "execution_count": 17,
   "metadata": {},
   "outputs": [
    {
     "name": "stdout",
     "output_type": "stream",
     "text": [
      "{'First_name': 'Aradhya', 'Last_name': 'Ravi', 'Course': 'Mechanical', 'Mark': 85}\n",
      "{'First_name': 'Rohit', 'Last_name': 'Shekhar', 'Course': 'Mechanical', 'Mark': 82}\n",
      "{'First_name': 'Krishna', 'Last_name': 'A', 'Course': 'Mechanical', 'Mark': 65}\n",
      "{'First_name': 'Abraham', 'Last_name': 'P', 'Course': 'Mechanical', 'Mark': 55}\n"
     ]
    }
   ],
   "source": [
    "for document in col.find({\"Course\": \"Mechanical\"},{\"First_name\":1,\"Last_name\":1,\"Mark\":1,\"Course\":1,\"_id\":0}).sort({\"Mark\": -1}).limit(5): \n",
    "    print(document)"
   ]
  },
  {
   "cell_type": "code",
   "execution_count": 18,
   "metadata": {},
   "outputs": [
    {
     "name": "stdout",
     "output_type": "stream",
     "text": [
      "{'First_name': 'Chaithanya', 'Last_name': 'Ks'}\n"
     ]
    }
   ],
   "source": [
    "for document in col.find({\"Gender\":\"Female\",\"Mark\":{\"$gt\":90}},{\"First_name\":1,\"Last_name\":1,\"_id\":0}):\n",
    "    print(document)"
   ]
  },
  {
   "cell_type": "code",
   "execution_count": null,
   "metadata": {},
   "outputs": [
    {
     "name": "stdout",
     "output_type": "stream",
     "text": [
      "{'First_name': 'Aradhya', 'Last_name': 'Ravi', 'Mark': 85}\n",
      "{'First_name': 'Rohit', 'Last_name': 'Shekhar', 'Mark': 82}\n"
     ]
    }
   ],
   "source": [
    "for document in col.find({\"Mark\":{\"$gt\":80,\"$lt\":90}},{\"First_name\":1,\"Last_name\":1,\"Mark\":1, \"_id\":0}):\n",
    "    print(document)"
   ]
  },
  {
   "cell_type": "code",
   "execution_count": 24,
   "metadata": {},
   "outputs": [
    {
     "name": "stdout",
     "output_type": "stream",
     "text": [
      "{'First_name': 'Aradhya'}\n",
      "{'First_name': 'Arun'}\n",
      "{'First_name': 'Abraham'}\n"
     ]
    }
   ],
   "source": [
    "for document in col.find({\"First_name\": {\"$regex\": \"^A\"}},{\"First_name\":1, \"_id\":0}):\n",
    "    print(document)"
   ]
  },
  {
   "cell_type": "code",
   "execution_count": 25,
   "metadata": {},
   "outputs": [
    {
     "name": "stdout",
     "output_type": "stream",
     "text": [
      "{'First_name': 'Arun', 'Place': 'Kollam'}\n",
      "{'First_name': 'Abraham', 'Place': 'Kollam'}\n"
     ]
    }
   ],
   "source": [
    "for document in col.find({\"Place\":\"Kollam\"},{\"First_name\":1,\"Place\":1, \"_id\":0}):\n",
    "    print(document)"
   ]
  },
  {
   "cell_type": "code",
   "execution_count": 29,
   "metadata": {},
   "outputs": [
    {
     "name": "stdout",
     "output_type": "stream",
     "text": [
      "{'First_name': 'Chaithanya', 'Place': 'Thrissur'}\n",
      "{'First_name': 'Aradhya', 'Place': 'Trivandrum'}\n",
      "{'First_name': 'Krishna', 'Place': 'Thrissur'}\n",
      "{'First_name': 'Rohit', 'Place': 'Trivandrum'}\n"
     ]
    }
   ],
   "source": [
    "for document in col.find({\"Place\": { \"$nin\": [\"Malppuram\", \"Kollam\"] }\n",
    "},{\"First_name\":1,\"Place\":1, \"_id\":0}):\n",
    "    print(document)"
   ]
  },
  {
   "cell_type": "code",
   "execution_count": null,
   "metadata": {},
   "outputs": [],
   "source": []
  },
  {
   "cell_type": "code",
   "execution_count": null,
   "metadata": {},
   "outputs": [],
   "source": []
  }
 ],
 "metadata": {
  "kernelspec": {
   "display_name": "Python 3",
   "language": "python",
   "name": "python3"
  },
  "language_info": {
   "codemirror_mode": {
    "name": "ipython",
    "version": 3
   },
   "file_extension": ".py",
   "mimetype": "text/x-python",
   "name": "python",
   "nbconvert_exporter": "python",
   "pygments_lexer": "ipython3",
   "version": "3.12.0"
  }
 },
 "nbformat": 4,
 "nbformat_minor": 2
}
