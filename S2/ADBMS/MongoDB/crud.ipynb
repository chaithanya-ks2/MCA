{
 "cells": [
  {
   "cell_type": "code",
   "execution_count": 1,
   "metadata": {},
   "outputs": [],
   "source": [
    "import pymongo"
   ]
  },
  {
   "cell_type": "code",
   "execution_count": 5,
   "metadata": {},
   "outputs": [],
   "source": [
    "conn = pymongo.MongoClient (\"mongodb://localhost:27017/\")\n",
    "db=conn[\"mydatabase\"]\n",
    "col=db[\"std_details\"]"
   ]
  },
  {
   "cell_type": "code",
   "execution_count": 6,
   "metadata": {},
   "outputs": [
    {
     "data": {
      "text/plain": [
       "InsertManyResult([ObjectId('67e2341e3e9097c88cc93f23'), ObjectId('67e2341e3e9097c88cc93f24'), ObjectId('67e2341e3e9097c88cc93f25')], acknowledged=True)"
      ]
     },
     "execution_count": 6,
     "metadata": {},
     "output_type": "execute_result"
    }
   ],
   "source": [
    "value = [{\"Name\":\"Sandra\",\"Age\":\"18\",\"Place\":\"Trivandrum\"},\n",
    "       {\"Name\":\"Devi\",\"Age\":\"21\",\"Place\":\"Malappuram\"},\n",
    "       {\"Name\":\"Rohit\",\"Age\":\"18\",\"Place\":\"Kochi\"}]\n",
    "col.insert_many(value)"
   ]
  },
  {
   "cell_type": "code",
   "execution_count": 7,
   "metadata": {},
   "outputs": [
    {
     "name": "stdout",
     "output_type": "stream",
     "text": [
      "Sandra\n",
      "Devi\n",
      "Rohit\n",
      "{'_id': ObjectId('67e2341e3e9097c88cc93f24'), 'Name': 'Devi', 'Age': '21', 'Place': 'Malappuram'}\n",
      "{'_id': ObjectId('67e2341e3e9097c88cc93f25'), 'Name': 'Rohit', 'Age': '18', 'Place': 'Kochi'}\n"
     ]
    }
   ],
   "source": [
    "var=col.find()\n",
    "for i in var:\n",
    "    print(i[\"Name\"])\n",
    "for document in col.find({\"$or\": [{\"Age\": \"21\"}, \n",
    "                               {\"Place\": \"Kochi\"}]}): #by default AND\n",
    "    print(document)"
   ]
  },
  {
   "cell_type": "code",
   "execution_count": 15,
   "metadata": {},
   "outputs": [
    {
     "data": {
      "text/plain": [
       "UpdateResult({'n': 1, 'nModified': 0, 'ok': 1.0, 'updatedExisting': True}, acknowledged=True)"
      ]
     },
     "execution_count": 15,
     "metadata": {},
     "output_type": "execute_result"
    }
   ],
   "source": [
    "cond={\"Age\":\"21\"}\n",
    "newvalue={\"$set\":{\"Place\":\"Calicut\"}}\n",
    "                                      \n",
    "col.update_many(cond,newvalue)\n",
    "\n",
    "#for document in var:\n",
    "    #print(document)\n"
   ]
  },
  {
   "cell_type": "code",
   "execution_count": 16,
   "metadata": {},
   "outputs": [
    {
     "data": {
      "text/plain": [
       "DeleteResult({'n': 1, 'ok': 1.0}, acknowledged=True)"
      ]
     },
     "execution_count": 16,
     "metadata": {},
     "output_type": "execute_result"
    }
   ],
   "source": [
    "cond = {\"Age\": \"21\"}  # Condition to match\n",
    "col.delete_one(cond)"
   ]
  },
  {
   "cell_type": "code",
   "execution_count": 24,
   "metadata": {},
   "outputs": [
    {
     "name": "stdout",
     "output_type": "stream",
     "text": [
      "{'_id': ObjectId('67e2341e3e9097c88cc93f23'), 'Name': 'Sandra', 'Age': '18', 'Place': 'Trivandrum'}\n",
      "{'_id': ObjectId('67e2341e3e9097c88cc93f25'), 'Name': 'Rohit', 'Age': '18', 'Place': 'Kochi'}\n"
     ]
    }
   ],
   "source": [
    "new=col.find()\n",
    "\n",
    "for i in new:\n",
    "    print(i)"
   ]
  },
  {
   "cell_type": "code",
   "execution_count": 28,
   "metadata": {},
   "outputs": [
    {
     "name": "stdout",
     "output_type": "stream",
     "text": [
      "{'Name': 'Sandra', 'Age': '18', 'Place': 'Trivandrum'}\n"
     ]
    }
   ],
   "source": [
    "var = col.find({\"Name\": {\"$regex\": \"^S\"}}, {\"_id\": 0})\n",
    "\n",
    "for i in var:\n",
    "    print(i)"
   ]
  },
  {
   "cell_type": "code",
   "execution_count": null,
   "metadata": {},
   "outputs": [],
   "source": []
  }
 ],
 "metadata": {
  "kernelspec": {
   "display_name": "Python 3",
   "language": "python",
   "name": "python3"
  },
  "language_info": {
   "codemirror_mode": {
    "name": "ipython",
    "version": 3
   },
   "file_extension": ".py",
   "mimetype": "text/x-python",
   "name": "python",
   "nbconvert_exporter": "python",
   "pygments_lexer": "ipython3",
   "version": "3.12.0"
  }
 },
 "nbformat": 4,
 "nbformat_minor": 2
}
